{
 "cells": [
  {
   "cell_type": "markdown",
   "metadata": {},
   "source": [
    "\n",
    "### Examining racial discrimination in the US job market\n",
    "\n",
    "#### Background\n",
    "Racial discrimination continues to be pervasive in cultures throughout the world. Researchers examined the level of racial discrimination in the United States labor market by randomly assigning identical résumés black-sounding or white-sounding names and observing the impact on requests for interviews from employers.\n",
    "\n",
    "#### Data\n",
    "In the dataset provided, each row represents a resume. The 'race' column has two values, 'b' and 'w', indicating black-sounding and white-sounding. The column 'call' has two values, 1 and 0, indicating whether the resume received a call from employers or not.\n",
    "\n",
    "Note that the 'b' and 'w' values in race are assigned randomly to the resumes.\n",
    "\n",
    "#### Exercise\n",
    "You will perform a statistical analysis to establish whether race has a significant impact on the rate of callbacks for resumes.\n",
    "\n",
    "Answer the following questions **in this notebook below and submit to your Github account**. \n",
    "\n",
    "   1. What test is appropriate for this problem? Does CLT apply?\n",
    "   2. What are the null and alternate hypotheses?\n",
    "   3. Compute margin of error, confidence interval, and p-value.\n",
    "   4. Discuss statistical significance.\n",
    "\n",
    "You can include written notes in notebook cells using Markdown: \n",
    "   - In the control panel at the top, choose Cell > Cell Type > Markdown\n",
    "   - Markdown syntax: http://nestacms.com/docs/creating-content/markdown-cheat-sheet\n",
    "\n",
    "\n",
    "#### Resources\n",
    "+ Experiment information and data source: http://www.povertyactionlab.org/evaluation/discrimination-job-market-united-states\n",
    "+ Scipy statistical methods: http://docs.scipy.org/doc/scipy/reference/stats.html \n",
    "+ Markdown syntax: http://nestacms.com/docs/creating-content/markdown-cheat-sheet\n",
    "\n",
    "****"
   ]
  },
  {
   "cell_type": "code",
   "execution_count": 8,
   "metadata": {
    "collapsed": true
   },
   "outputs": [],
   "source": [
    "import pandas as pd\n",
    "import numpy as np\n",
    "from scipy import stats\n",
    "import statsmodels"
   ]
  },
  {
   "cell_type": "code",
   "execution_count": 2,
   "metadata": {
    "collapsed": false
   },
   "outputs": [],
   "source": [
    "data = pd.io.stata.read_stata('data/us_job_market_discrimination.dta')"
   ]
  },
  {
   "cell_type": "markdown",
   "metadata": {
    "collapsed": true
   },
   "source": [
    "## What test is appropriate and does CLT apply?\n",
    "\n",
    "### Because our sample population is over 30, we can presume that CLT applies correctly. I think the best test would be chi-square test of independence because we are dealing with independent categorical variables and proportions."
   ]
  },
  {
   "cell_type": "markdown",
   "metadata": {},
   "source": [
    "# Hypothesis setup:"
   ]
  },
  {
   "cell_type": "markdown",
   "metadata": {},
   "source": [
    "### For this test we are going to be checking whether race has a significant impact on whether or not the candidate is called back for an interview. Specifically if the percentage of 'black' candidates who receive a call back is significantly different than the percentage of 'white' candidates. This would be a two tailed:\n",
    "### P1 - P2 = 0\n",
    "### P1 - P2 != 0 "
   ]
  },
  {
   "cell_type": "code",
   "execution_count": 4,
   "metadata": {
    "collapsed": false
   },
   "outputs": [
    {
     "name": "stdout",
     "output_type": "stream",
     "text": [
      "black callbacks:  6.4476386037\n",
      "bcand sample:  2435\n",
      "white callbacks:  9.65092402464\n",
      "wcand sample:  2435\n"
     ]
    }
   ],
   "source": [
    "# number of callbacks for black-sounding names\n",
    "bcalback =  sum(data[data.race=='b'].call)\n",
    "bcand = len(data[data.race=='b'])\n",
    "p1 = bcalback / bcand \n",
    "n1 = bcand\n",
    "print 'black callbacks: ',bcalback / bcand * 100\n",
    "print 'bcand sample: ',bcand\n",
    "# number of callbacks for white-sounding names\n",
    "wcallback = sum(data[data.race=='w'].call)\n",
    "wcand = len(data[data.race=='w'])\n",
    "p2 = wcallback / wcand\n",
    "n2 = wcand\n",
    "print 'white callbacks: ',wcallback / wcand * 100\n",
    "print 'wcand sample: ', wcand"
   ]
  },
  {
   "cell_type": "markdown",
   "metadata": {},
   "source": [
    "# Confidence Interval for two sample populations"
   ]
  },
  {
   "cell_type": "code",
   "execution_count": 14,
   "metadata": {
    "collapsed": false
   },
   "outputs": [
    {
     "name": "stdout",
     "output_type": "stream",
     "text": [
      "black candidate confidence interval:  (0.055044638648157666, 0.074971416855759476)\n",
      "white candidate confidence itnerval:  (0.085065918572887936, 0.10893324180253894)\n"
     ]
    }
   ],
   "source": [
    "from scipy.stats import beta\n",
    "\n",
    "def binom_interval(success, total, confint=0.95):\n",
    "    quantile = (1 - confint) / 2.\n",
    "    lower = beta.ppf(quantile, success, total - success + 1)\n",
    "    upper = beta.ppf(1 - quantile, success + 1, total - success)\n",
    "    return (lower, upper)\n",
    "\n",
    "print 'black candidate confidence interval: ', binom_interval(bcalback, bcand)\n",
    "print 'white candidate confidence itnerval: ', binom_interval(wcallback, wcand)"
   ]
  },
  {
   "cell_type": "markdown",
   "metadata": {},
   "source": [
    "# Margin of error"
   ]
  },
  {
   "cell_type": "code",
   "execution_count": 23,
   "metadata": {
    "collapsed": false
   },
   "outputs": [
    {
     "name": "stdout",
     "output_type": "stream",
     "text": [
      "black candidate margin of error:  0.00975515802791\n",
      "white candidate margin of error:  0.0117287814691\n"
     ]
    }
   ],
   "source": [
    "from math import sqrt\n",
    "def compute_moe(n, x, z=1.96):\n",
    "    p = x/n\n",
    "    phat = 1-p\n",
    "    moe = z * sqrt((p*phat)/n)\n",
    "    return moe\n",
    "\n",
    "print 'black candidate margin of error: ',compute_moe(bcand, bcalback)\n",
    "print 'white candidate margin of error: ',compute_moe(wcand, wcallback)"
   ]
  },
  {
   "cell_type": "markdown",
   "metadata": {},
   "source": [
    "# Compute p-value"
   ]
  },
  {
   "cell_type": "code",
   "execution_count": 5,
   "metadata": {
    "collapsed": false
   },
   "outputs": [],
   "source": [
    "chi2, p, dof, expected = stats.chi2_contingency(([[bcalback, bcand],[wcallback, wcand]]))"
   ]
  },
  {
   "cell_type": "code",
   "execution_count": 27,
   "metadata": {
    "collapsed": false
   },
   "outputs": [
    {
     "name": "stdout",
     "output_type": "stream",
     "text": [
      "The P value:  0.000185547471811 < or equal to .05, reject null hypothesis\n"
     ]
    }
   ],
   "source": [
    "def compute_significance(p):\n",
    "    if p <= .05:\n",
    "        print 'The P value: ',p, '< or equal to .05, reject null hypothesis'\n",
    "    else:\n",
    "        print 'The P value: ',p, '> .05, accept null hypothesis'\n",
    "        \n",
    "compute_significance(p)"
   ]
  },
  {
   "cell_type": "markdown",
   "metadata": {},
   "source": [
    "# Discuss:"
   ]
  },
  {
   "cell_type": "markdown",
   "metadata": {},
   "source": [
    "## Because we achieved a p-value of less than .05, we can deem that we should reject the null hypothesis and with 95% confdidence that the proportions of both races are indeed not equal."
   ]
  }
 ],
 "metadata": {
  "kernelspec": {
   "display_name": "Python 2",
   "language": "python",
   "name": "python2"
  },
  "language_info": {
   "codemirror_mode": {
    "name": "ipython",
    "version": 2
   },
   "file_extension": ".py",
   "mimetype": "text/x-python",
   "name": "python",
   "nbconvert_exporter": "python",
   "pygments_lexer": "ipython2",
   "version": "2.7.11"
  }
 },
 "nbformat": 4,
 "nbformat_minor": 0
}
