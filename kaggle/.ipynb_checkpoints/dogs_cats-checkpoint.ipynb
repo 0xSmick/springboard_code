{
 "cells": [
  {
   "cell_type": "code",
   "execution_count": 170,
   "metadata": {
    "collapsed": false
   },
   "outputs": [],
   "source": [
    "import pandas as pd\n",
    "import numpy as np\n",
    "import matplotlib.pyplot as plt\n",
    "import seaborn as sns\n",
    "\n",
    "from sklearn.tree import DecisionTreeClassifier\n",
    "from sklearn import metrics\n",
    "from sklearn import cross_validation\n",
    "\n",
    "from sklearn import tree\n",
    "\n",
    "%matplotlib inline"
   ]
  },
  {
   "cell_type": "code",
   "execution_count": 171,
   "metadata": {
    "collapsed": true
   },
   "outputs": [],
   "source": [
    "df = pd.read_csv('train.csv')"
   ]
  },
  {
   "cell_type": "code",
   "execution_count": 172,
   "metadata": {
    "collapsed": false,
    "scrolled": true
   },
   "outputs": [
    {
     "data": {
      "text/html": [
       "<div>\n",
       "<table border=\"1\" class=\"dataframe\">\n",
       "  <thead>\n",
       "    <tr style=\"text-align: right;\">\n",
       "      <th></th>\n",
       "      <th>AnimalID</th>\n",
       "      <th>Name</th>\n",
       "      <th>DateTime</th>\n",
       "      <th>OutcomeType</th>\n",
       "      <th>OutcomeSubtype</th>\n",
       "      <th>AnimalType</th>\n",
       "      <th>SexuponOutcome</th>\n",
       "      <th>AgeuponOutcome</th>\n",
       "      <th>Breed</th>\n",
       "      <th>Color</th>\n",
       "    </tr>\n",
       "  </thead>\n",
       "  <tbody>\n",
       "    <tr>\n",
       "      <th>0</th>\n",
       "      <td>A671945</td>\n",
       "      <td>Hambone</td>\n",
       "      <td>2014-02-12 18:22:00</td>\n",
       "      <td>Return_to_owner</td>\n",
       "      <td>NaN</td>\n",
       "      <td>Dog</td>\n",
       "      <td>Neutered Male</td>\n",
       "      <td>1 year</td>\n",
       "      <td>Shetland Sheepdog Mix</td>\n",
       "      <td>Brown/White</td>\n",
       "    </tr>\n",
       "    <tr>\n",
       "      <th>1</th>\n",
       "      <td>A656520</td>\n",
       "      <td>Emily</td>\n",
       "      <td>2013-10-13 12:44:00</td>\n",
       "      <td>Euthanasia</td>\n",
       "      <td>Suffering</td>\n",
       "      <td>Cat</td>\n",
       "      <td>Spayed Female</td>\n",
       "      <td>1 year</td>\n",
       "      <td>Domestic Shorthair Mix</td>\n",
       "      <td>Cream Tabby</td>\n",
       "    </tr>\n",
       "    <tr>\n",
       "      <th>2</th>\n",
       "      <td>A686464</td>\n",
       "      <td>Pearce</td>\n",
       "      <td>2015-01-31 12:28:00</td>\n",
       "      <td>Adoption</td>\n",
       "      <td>Foster</td>\n",
       "      <td>Dog</td>\n",
       "      <td>Neutered Male</td>\n",
       "      <td>2 years</td>\n",
       "      <td>Pit Bull Mix</td>\n",
       "      <td>Blue/White</td>\n",
       "    </tr>\n",
       "    <tr>\n",
       "      <th>3</th>\n",
       "      <td>A683430</td>\n",
       "      <td>NaN</td>\n",
       "      <td>2014-07-11 19:09:00</td>\n",
       "      <td>Transfer</td>\n",
       "      <td>Partner</td>\n",
       "      <td>Cat</td>\n",
       "      <td>Intact Male</td>\n",
       "      <td>3 weeks</td>\n",
       "      <td>Domestic Shorthair Mix</td>\n",
       "      <td>Blue Cream</td>\n",
       "    </tr>\n",
       "    <tr>\n",
       "      <th>4</th>\n",
       "      <td>A667013</td>\n",
       "      <td>NaN</td>\n",
       "      <td>2013-11-15 12:52:00</td>\n",
       "      <td>Transfer</td>\n",
       "      <td>Partner</td>\n",
       "      <td>Dog</td>\n",
       "      <td>Neutered Male</td>\n",
       "      <td>2 years</td>\n",
       "      <td>Lhasa Apso/Miniature Poodle</td>\n",
       "      <td>Tan</td>\n",
       "    </tr>\n",
       "  </tbody>\n",
       "</table>\n",
       "</div>"
      ],
      "text/plain": [
       "  AnimalID     Name             DateTime      OutcomeType OutcomeSubtype  \\\n",
       "0  A671945  Hambone  2014-02-12 18:22:00  Return_to_owner            NaN   \n",
       "1  A656520    Emily  2013-10-13 12:44:00       Euthanasia      Suffering   \n",
       "2  A686464   Pearce  2015-01-31 12:28:00         Adoption         Foster   \n",
       "3  A683430      NaN  2014-07-11 19:09:00         Transfer        Partner   \n",
       "4  A667013      NaN  2013-11-15 12:52:00         Transfer        Partner   \n",
       "\n",
       "  AnimalType SexuponOutcome AgeuponOutcome                        Breed  \\\n",
       "0        Dog  Neutered Male         1 year        Shetland Sheepdog Mix   \n",
       "1        Cat  Spayed Female         1 year       Domestic Shorthair Mix   \n",
       "2        Dog  Neutered Male        2 years                 Pit Bull Mix   \n",
       "3        Cat    Intact Male        3 weeks       Domestic Shorthair Mix   \n",
       "4        Dog  Neutered Male        2 years  Lhasa Apso/Miniature Poodle   \n",
       "\n",
       "         Color  \n",
       "0  Brown/White  \n",
       "1  Cream Tabby  \n",
       "2   Blue/White  \n",
       "3   Blue Cream  \n",
       "4          Tan  "
      ]
     },
     "execution_count": 172,
     "metadata": {},
     "output_type": "execute_result"
    }
   ],
   "source": [
    "df.head()"
   ]
  },
  {
   "cell_type": "markdown",
   "metadata": {},
   "source": [
    "## First thing is we want to quantify our outcomes with the get_dummies method, this will allow us to clearly plot out the animals that were euthanized or adopted, I also like to lower the columns in order to work with some cleaner data"
   ]
  },
  {
   "cell_type": "code",
   "execution_count": 173,
   "metadata": {
    "collapsed": false
   },
   "outputs": [],
   "source": [
    "df_outcome = pd.get_dummies(df['OutcomeType'])\n",
    "df = pd.concat([df, df_outcome], axis=1)"
   ]
  },
  {
   "cell_type": "code",
   "execution_count": 174,
   "metadata": {
    "collapsed": false
   },
   "outputs": [],
   "source": [
    "df.columns = map(lambda x: x.lower(), df.columns)"
   ]
  },
  {
   "cell_type": "code",
   "execution_count": 175,
   "metadata": {
    "collapsed": false
   },
   "outputs": [
    {
     "name": "stdout",
     "output_type": "stream",
     "text": [
      "<class 'pandas.core.frame.DataFrame'>\n",
      "RangeIndex: 26729 entries, 0 to 26728\n",
      "Data columns (total 15 columns):\n",
      "animalid           26729 non-null object\n",
      "name               19038 non-null object\n",
      "datetime           26729 non-null object\n",
      "outcometype        26729 non-null object\n",
      "outcomesubtype     13117 non-null object\n",
      "animaltype         26729 non-null object\n",
      "sexuponoutcome     26728 non-null object\n",
      "ageuponoutcome     26711 non-null object\n",
      "breed              26729 non-null object\n",
      "color              26729 non-null object\n",
      "adoption           26729 non-null float64\n",
      "died               26729 non-null float64\n",
      "euthanasia         26729 non-null float64\n",
      "return_to_owner    26729 non-null float64\n",
      "transfer           26729 non-null float64\n",
      "dtypes: float64(5), object(10)\n",
      "memory usage: 3.1+ MB\n"
     ]
    }
   ],
   "source": [
    "df.info()"
   ]
  },
  {
   "cell_type": "markdown",
   "metadata": {},
   "source": [
    "### Create a barplot of the animals to take a look at most popular outcomes and also convert datetime to a datetime object"
   ]
  },
  {
   "cell_type": "code",
   "execution_count": 176,
   "metadata": {
    "collapsed": false
   },
   "outputs": [
    {
     "data": {
      "text/plain": [
       "<matplotlib.axes._subplots.AxesSubplot at 0x10ef4e150>"
      ]
     },
     "execution_count": 176,
     "metadata": {},
     "output_type": "execute_result"
    },
    {
     "data": {
      "image/png": "[encoded data removed]",
      "text/plain": [
       "<matplotlib.figure.Figure at 0x1094e8d90>"
      ]
     },
     "metadata": {},
     "output_type": "display_data"
    }
   ],
   "source": [
    "test = df[['animaltype','outcometype','breed']].groupby(['animaltype','outcometype']).size().reset_index()\n",
    "df.datetime = pd.to_datetime(df.datetime)\n",
    "sns.barplot(x='outcometype',y=0,hue='animaltype',data=test)"
   ]
  },
  {
   "cell_type": "markdown",
   "metadata": {},
   "source": [
    "### One of the first things that I realized was that 'mixed breeds' and nonmixed breeds had almost nothing different when aggregating. I wrote this function to remove the 'Mixed' keyword and convert to the nonmixed breed."
   ]
  },
  {
   "cell_type": "code",
   "execution_count": 177,
   "metadata": {
    "collapsed": false
   },
   "outputs": [],
   "source": [
    "def remove_mix(item):\n",
    "    if 'Mix' in item:\n",
    "        x = item.split(' ')\n",
    "        return ' '.join(x[:len(x)-1])\n",
    "    else:\n",
    "        return item\n",
    "    \n",
    "#remove_mix('Shetland Sheepdog Mix')\n",
    "\n",
    "df['breed'] = df['breed'].apply(remove_mix)"
   ]
  },
  {
   "cell_type": "markdown",
   "metadata": {},
   "source": [
    "### I'd like to create several features mapped based on the breed for my predictive model. My plan is normalize using a z-score, and calculate th percentage breakdown for each pc. It would be interesting to see if there is breed stigma from users."
   ]
  },
  {
   "cell_type": "code",
   "execution_count": 178,
   "metadata": {
    "collapsed": false
   },
   "outputs": [],
   "source": [
    "aggregations = {\n",
    "    'adoption':'sum',\n",
    "    'died':'sum',\n",
    "    'euthanasia':'sum',\n",
    "    'return_to_owner':'sum',\n",
    "    'transfer':'sum'\n",
    "    }\n",
    "\n",
    "animal_agg = df.groupby(['breed','animaltype']).agg(aggregations).reset_index()\n",
    "#dog_breed = df[df.animaltype == 'Dog'].groupby(['breed']).agg(aggregations).reset_index()\n",
    "#cat_breed = df[df.animaltype == 'Cat'].groupby(['breed']).agg(aggregations).reset_index()"
   ]
  },
  {
   "cell_type": "code",
   "execution_count": 179,
   "metadata": {
    "collapsed": false
   },
   "outputs": [],
   "source": [
    "animal_agg['total'] = animal_agg.sum(axis=1)\n",
    "animal_agg['total_normalized'] = animal_agg['total'].values.astype(float)\n",
    "animal_agg['zscore'] = (animal_agg.total_normalized - animal_agg.total_normalized.mean())/animal_agg.total_normalized.std(ddof=0)\n",
    "animal_agg['transfer_pc'] = animal_agg.transfer / animal_agg.total * 100\n",
    "animal_agg['adoption_pc'] = animal_agg.adoption / animal_agg.total * 100\n",
    "animal_agg['rto_pc'] = animal_agg.return_to_owner / animal_agg.total * 100\n",
    "animal_agg['died_pc'] = animal_agg.died / animal_agg.total * 100\n",
    "animal_agg['euth_pc'] = animal_agg.euthanasia / animal_agg.total * 100\n",
    "animal_agg = animal_agg.round(2)"
   ]
  },
  {
   "cell_type": "code",
   "execution_count": 180,
   "metadata": {
    "collapsed": false
   },
   "outputs": [
    {
     "data": {
      "text/plain": [
       "\"cat_breed['total'] = cat_breed.sum(axis=1)\\ncat_breed['total_normalized'] = cat_breed['total'].values.astype(float)\\ncat_breed['zscore'] = (cat_breed.total_normalized - cat_breed.total_normalized.mean())/cat_breed.total_normalized.std(ddof=0)\\ncat_breed['transfer_pc'] = cat_breed.transfer / cat_breed.total * 100\\ncat_breed['adoption_pc'] = cat_breed.adoption / cat_breed.total * 100\\ncat_breed['rto_pc'] = cat_breed.return_to_owner / cat_breed.total * 100\\ncat_breed['died_pc'] = cat_breed.died / cat_breed.total * 100\\ncat_breed['euth_pc'] = cat_breed.euthanasia / cat_breed.total * 100\\ndog_breed['total'] = dog_breed.sum(axis=1)\\ndog_breed['total_normalized'] = dog_breed['total'].values.astype(float)\\ndog_breed['zscore'] = (dog_breed.total_normalized - dog_breed.total_normalized.mean())/dog_breed.total_normalized.std(ddof=0)\\ndog_breed['transfer_pc'] = dog_breed.transfer / dog_breed.total * 100\\ndog_breed['adoption_pc'] = dog_breed.adoption / dog_breed.total * 100\\ndog_breed['rto_pc'] = dog_breed.return_to_owner / dog_breed.total * 100\\ndog_breed['died_pc'] = dog_breed.died / dog_breed.total * 100\\ndog_breed['euth_pc'] = dog_breed.euthanasia / dog_breed.total * 100\\ndog_breed_perc = dog_breed[['breed','transfer_pc','adoption_pc','rto_pc','died_pc','euth_pc','total', 'zscore']]\\ncat_breed_perc = cat_breed[['breed','transfer_pc','adoption_pc','rto_pc','died_pc','euth_pc','total', 'zscore']]\\ndog_breed_perc = dog_breed_perc.round(2)\\ncat_breed_perc = cat_breed_perc.round(2)\\n\\n\""
      ]
     },
     "execution_count": 180,
     "metadata": {},
     "output_type": "execute_result"
    }
   ],
   "source": [
    "'''cat_breed['total'] = cat_breed.sum(axis=1)\n",
    "cat_breed['total_normalized'] = cat_breed['total'].values.astype(float)\n",
    "cat_breed['zscore'] = (cat_breed.total_normalized - cat_breed.total_normalized.mean())/cat_breed.total_normalized.std(ddof=0)\n",
    "cat_breed['transfer_pc'] = cat_breed.transfer / cat_breed.total * 100\n",
    "cat_breed['adoption_pc'] = cat_breed.adoption / cat_breed.total * 100\n",
    "cat_breed['rto_pc'] = cat_breed.return_to_owner / cat_breed.total * 100\n",
    "cat_breed['died_pc'] = cat_breed.died / cat_breed.total * 100\n",
    "cat_breed['euth_pc'] = cat_breed.euthanasia / cat_breed.total * 100\n",
    "dog_breed['total'] = dog_breed.sum(axis=1)\n",
    "dog_breed['total_normalized'] = dog_breed['total'].values.astype(float)\n",
    "dog_breed['zscore'] = (dog_breed.total_normalized - dog_breed.total_normalized.mean())/dog_breed.total_normalized.std(ddof=0)\n",
    "dog_breed['transfer_pc'] = dog_breed.transfer / dog_breed.total * 100\n",
    "dog_breed['adoption_pc'] = dog_breed.adoption / dog_breed.total * 100\n",
    "dog_breed['rto_pc'] = dog_breed.return_to_owner / dog_breed.total * 100\n",
    "dog_breed['died_pc'] = dog_breed.died / dog_breed.total * 100\n",
    "dog_breed['euth_pc'] = dog_breed.euthanasia / dog_breed.total * 100\n",
    "dog_breed_perc = dog_breed[['breed','transfer_pc','adoption_pc','rto_pc','died_pc','euth_pc','total', 'zscore']]\n",
    "cat_breed_perc = cat_breed[['breed','transfer_pc','adoption_pc','rto_pc','died_pc','euth_pc','total', 'zscore']]\n",
    "dog_breed_perc = dog_breed_perc.round(2)\n",
    "cat_breed_perc = cat_breed_perc.round(2)\n",
    "\n",
    "'''"
   ]
  },
  {
   "cell_type": "code",
   "execution_count": 181,
   "metadata": {
    "collapsed": false
   },
   "outputs": [],
   "source": [
    "df = pd.merge(df, animal_agg, left_on='breed',right_on='breed',how='inner')"
   ]
  },
  {
   "cell_type": "code",
   "execution_count": 182,
   "metadata": {
    "collapsed": false
   },
   "outputs": [],
   "source": [
    "df = df[['datetime','outcometype','outcomesubtype','animaltype_x','sexuponoutcome','ageuponoutcome','breed','color','adoption_x','died_x','euthanasia_x','return_to_owner_x','transfer_x','total','zscore','transfer_pc','adoption_pc','rto_pc','died_pc','euth_pc']]"
   ]
  },
  {
   "cell_type": "code",
   "execution_count": 183,
   "metadata": {
    "collapsed": false
   },
   "outputs": [],
   "source": [
    "df.columns = df.columns.str.replace('_x','')"
   ]
  },
  {
   "cell_type": "code",
   "execution_count": 184,
   "metadata": {
    "collapsed": false
   },
   "outputs": [],
   "source": [
    "df = df.fillna('None')\n",
    "df.color.value_counts()\n",
    "colors = pd.DataFrame(df.color.str.split('/').tolist(), columns=['color1','color2'])\n",
    "df = pd.concat([df, colors],axis=1)\n",
    "df = df.drop('color',axis=1)"
   ]
  },
  {
   "cell_type": "code",
   "execution_count": 185,
   "metadata": {
    "collapsed": false
   },
   "outputs": [],
   "source": [
    "def convert_dates(cell):\n",
    "    if 'year' in cell:\n",
    "        year = cell.split(' ')[0]\n",
    "        year = float(year)\n",
    "        year = year * 365\n",
    "        return year\n",
    "    elif 'month' in cell:\n",
    "        months = cell.split(' ')[0]\n",
    "        months = float(months)\n",
    "        months = months * 30\n",
    "        return months\n",
    "    elif 'week' in cell:\n",
    "        weeks = cell.split(' ')[0]\n",
    "        weeks = float(weeks)\n",
    "        weeks = weeks * 7\n",
    "        return weeks\n",
    "    elif 'day' in cell:\n",
    "        days = cell.split(' ')[0]\n",
    "        days = float(days)\n",
    "        return days\n",
    "    else:\n",
    "        return 0\n",
    "\n",
    "df['days_alive'] = df['ageuponoutcome'].apply(convert_dates)\n",
    "df['years_alive'] = df['days_alive']/365\n",
    "df['weeks_alive'] = df['days_alive']/52\n",
    "df['months_alive'] = df['days_alive']/12"
   ]
  },
  {
   "cell_type": "code",
   "execution_count": 186,
   "metadata": {
    "collapsed": false
   },
   "outputs": [
    {
     "data": {
      "text/html": [
       "<div>\n",
       "<table border=\"1\" class=\"dataframe\">\n",
       "  <thead>\n",
       "    <tr style=\"text-align: right;\">\n",
       "      <th></th>\n",
       "      <th>datetime</th>\n",
       "      <th>outcometype</th>\n",
       "      <th>outcomesubtype</th>\n",
       "      <th>animaltype</th>\n",
       "      <th>sexuponoutcome</th>\n",
       "      <th>ageuponoutcome</th>\n",
       "      <th>breed</th>\n",
       "      <th>adoption</th>\n",
       "      <th>died</th>\n",
       "      <th>euthanasia</th>\n",
       "      <th>...</th>\n",
       "      <th>adoption_pc</th>\n",
       "      <th>rto_pc</th>\n",
       "      <th>died_pc</th>\n",
       "      <th>euth_pc</th>\n",
       "      <th>color1</th>\n",
       "      <th>color2</th>\n",
       "      <th>days_alive</th>\n",
       "      <th>years_alive</th>\n",
       "      <th>weeks_alive</th>\n",
       "      <th>months_alive</th>\n",
       "    </tr>\n",
       "  </thead>\n",
       "  <tbody>\n",
       "    <tr>\n",
       "      <th>0</th>\n",
       "      <td>2014-02-12 18:22:00</td>\n",
       "      <td>Return_to_owner</td>\n",
       "      <td>None</td>\n",
       "      <td>Dog</td>\n",
       "      <td>Neutered Male</td>\n",
       "      <td>1 year</td>\n",
       "      <td>Shetland Sheepdog</td>\n",
       "      <td>0.0</td>\n",
       "      <td>0.0</td>\n",
       "      <td>0.0</td>\n",
       "      <td>...</td>\n",
       "      <td>18.52</td>\n",
       "      <td>40.74</td>\n",
       "      <td>0.0</td>\n",
       "      <td>11.11</td>\n",
       "      <td>Brown</td>\n",
       "      <td>White</td>\n",
       "      <td>365.0</td>\n",
       "      <td>1.000000</td>\n",
       "      <td>7.019231</td>\n",
       "      <td>30.416667</td>\n",
       "    </tr>\n",
       "    <tr>\n",
       "      <th>1</th>\n",
       "      <td>2014-11-08 19:01:00</td>\n",
       "      <td>Return_to_owner</td>\n",
       "      <td>None</td>\n",
       "      <td>Dog</td>\n",
       "      <td>Spayed Female</td>\n",
       "      <td>10 years</td>\n",
       "      <td>Shetland Sheepdog</td>\n",
       "      <td>0.0</td>\n",
       "      <td>0.0</td>\n",
       "      <td>0.0</td>\n",
       "      <td>...</td>\n",
       "      <td>18.52</td>\n",
       "      <td>40.74</td>\n",
       "      <td>0.0</td>\n",
       "      <td>11.11</td>\n",
       "      <td>Brown</td>\n",
       "      <td>White</td>\n",
       "      <td>3650.0</td>\n",
       "      <td>10.000000</td>\n",
       "      <td>70.192308</td>\n",
       "      <td>304.166667</td>\n",
       "    </tr>\n",
       "    <tr>\n",
       "      <th>2</th>\n",
       "      <td>2015-06-27 15:16:00</td>\n",
       "      <td>Transfer</td>\n",
       "      <td>Partner</td>\n",
       "      <td>Dog</td>\n",
       "      <td>Intact Male</td>\n",
       "      <td>2 years</td>\n",
       "      <td>Shetland Sheepdog</td>\n",
       "      <td>0.0</td>\n",
       "      <td>0.0</td>\n",
       "      <td>0.0</td>\n",
       "      <td>...</td>\n",
       "      <td>18.52</td>\n",
       "      <td>40.74</td>\n",
       "      <td>0.0</td>\n",
       "      <td>11.11</td>\n",
       "      <td>Tricolor</td>\n",
       "      <td>None</td>\n",
       "      <td>730.0</td>\n",
       "      <td>2.000000</td>\n",
       "      <td>14.038462</td>\n",
       "      <td>60.833333</td>\n",
       "    </tr>\n",
       "    <tr>\n",
       "      <th>3</th>\n",
       "      <td>2015-05-28 17:30:00</td>\n",
       "      <td>Adoption</td>\n",
       "      <td>None</td>\n",
       "      <td>Dog</td>\n",
       "      <td>Spayed Female</td>\n",
       "      <td>5 months</td>\n",
       "      <td>Shetland Sheepdog</td>\n",
       "      <td>1.0</td>\n",
       "      <td>0.0</td>\n",
       "      <td>0.0</td>\n",
       "      <td>...</td>\n",
       "      <td>18.52</td>\n",
       "      <td>40.74</td>\n",
       "      <td>0.0</td>\n",
       "      <td>11.11</td>\n",
       "      <td>White</td>\n",
       "      <td>Tan</td>\n",
       "      <td>150.0</td>\n",
       "      <td>0.410959</td>\n",
       "      <td>2.884615</td>\n",
       "      <td>12.500000</td>\n",
       "    </tr>\n",
       "    <tr>\n",
       "      <th>4</th>\n",
       "      <td>2014-10-12 13:58:00</td>\n",
       "      <td>Transfer</td>\n",
       "      <td>Partner</td>\n",
       "      <td>Dog</td>\n",
       "      <td>Intact Male</td>\n",
       "      <td>2 years</td>\n",
       "      <td>Shetland Sheepdog</td>\n",
       "      <td>0.0</td>\n",
       "      <td>0.0</td>\n",
       "      <td>0.0</td>\n",
       "      <td>...</td>\n",
       "      <td>18.52</td>\n",
       "      <td>40.74</td>\n",
       "      <td>0.0</td>\n",
       "      <td>11.11</td>\n",
       "      <td>Sable</td>\n",
       "      <td>White</td>\n",
       "      <td>730.0</td>\n",
       "      <td>2.000000</td>\n",
       "      <td>14.038462</td>\n",
       "      <td>60.833333</td>\n",
       "    </tr>\n",
       "  </tbody>\n",
       "</table>\n",
       "<p>5 rows × 25 columns</p>\n",
       "</div>"
      ],
      "text/plain": [
       "             datetime      outcometype outcomesubtype animaltype  \\\n",
       "0 2014-02-12 18:22:00  Return_to_owner           None        Dog   \n",
       "1 2014-11-08 19:01:00  Return_to_owner           None        Dog   \n",
       "2 2015-06-27 15:16:00         Transfer        Partner        Dog   \n",
       "3 2015-05-28 17:30:00         Adoption           None        Dog   \n",
       "4 2014-10-12 13:58:00         Transfer        Partner        Dog   \n",
       "\n",
       "  sexuponoutcome ageuponoutcome              breed  adoption  died  \\\n",
       "0  Neutered Male         1 year  Shetland Sheepdog       0.0   0.0   \n",
       "1  Spayed Female       10 years  Shetland Sheepdog       0.0   0.0   \n",
       "2    Intact Male        2 years  Shetland Sheepdog       0.0   0.0   \n",
       "3  Spayed Female       5 months  Shetland Sheepdog       1.0   0.0   \n",
       "4    Intact Male        2 years  Shetland Sheepdog       0.0   0.0   \n",
       "\n",
       "   euthanasia     ...       adoption_pc  rto_pc  died_pc  euth_pc    color1  \\\n",
       "0         0.0     ...             18.52   40.74      0.0    11.11     Brown   \n",
       "1         0.0     ...             18.52   40.74      0.0    11.11     Brown   \n",
       "2         0.0     ...             18.52   40.74      0.0    11.11  Tricolor   \n",
       "3         0.0     ...             18.52   40.74      0.0    11.11     White   \n",
       "4         0.0     ...             18.52   40.74      0.0    11.11     Sable   \n",
       "\n",
       "   color2  days_alive  years_alive  weeks_alive months_alive  \n",
       "0   White       365.0     1.000000     7.019231    30.416667  \n",
       "1   White      3650.0    10.000000    70.192308   304.166667  \n",
       "2    None       730.0     2.000000    14.038462    60.833333  \n",
       "3     Tan       150.0     0.410959     2.884615    12.500000  \n",
       "4   White       730.0     2.000000    14.038462    60.833333  \n",
       "\n",
       "[5 rows x 25 columns]"
      ]
     },
     "execution_count": 186,
     "metadata": {},
     "output_type": "execute_result"
    }
   ],
   "source": [
    "df.columns = map(lambda x: x.lower(), df.columns)\n",
    "df.head()"
   ]
  },
  {
   "cell_type": "code",
   "execution_count": 188,
   "metadata": {
    "collapsed": false
   },
   "outputs": [],
   "source": [
    "'''features = [\"limit_bal\",\"sex\",\"education\",\"marriage\",\"age\",\"pay_0\",\n",
    "           \"pay_2\",\"pay_3\",\"pay_4\",\"pay_5\",\"pay_6\",\n",
    "           \"bill_amt1\",\"bill_amt2\",\"bill_amt3\",\"bill_amt4\",\"bill_amt5\",\n",
    "           \"bill_amt6\",\"pay_amt1\",\"pay_amt2\",\"pay_amt3\",\"pay_amt4\",\n",
    "           \"pay_amt5\",\"pay_amt6\"]\n",
    "response = 'default_payment_next_month'\n",
    "'''\n",
    "\n",
    "fc = df.copy()\n",
    "\n",
    "x = df.columns.tolist()\n",
    "fc = fc.drop('datetime',axis=1)\n",
    "fc = fc.drop('outcometype', axis=1)\n",
    "fc = fc.drop('ageuponoutcome', axis=1)\n",
    "fc = fc.drop('outcomesubtype', axis=1)\n",
    "fc = fc.drop('color1', axis=1)\n",
    "fc = fc.drop('color2', axis=1)\n",
    "fc = fc.drop('adoption',axis=1)\n",
    "fc = fc.drop('died',axis=1)\n",
    "fc = fc.drop('return_to_owner',axis=1)\n",
    "fc = fc.drop('transfer',axis=1)\n",
    "fc = fc.drop('total', axis=1)\n",
    "fc = fc.drop('euthanasia',axis=1)\n",
    "fc.columns\n",
    "fc = pd.get_dummies(fc)\n",
    "features = fc.columns.tolist()\n",
    "fc = pd.concat([fc, df.outcometype],axis=1)"
   ]
  },
  {
   "cell_type": "code",
   "execution_count": 189,
   "metadata": {
    "collapsed": false
   },
   "outputs": [
    {
     "data": {
      "text/plain": [
       "\"df.animaltype = df.animaltype.astype('category')\\ndf.breed = df.breed.astype('category')\\ndf.sexuponoutcome = df.sexuponoutcome.astype('category')\\ndf.color1 = df.color1.astype('category')\\ndf.color2 = df.color2.astype('category')\\n\""
      ]
     },
     "execution_count": 189,
     "metadata": {},
     "output_type": "execute_result"
    }
   ],
   "source": [
    "'''df.animaltype = df.animaltype.astype('category')\n",
    "df.breed = df.breed.astype('category')\n",
    "df.sexuponoutcome = df.sexuponoutcome.astype('category')\n",
    "df.color1 = df.color1.astype('category')\n",
    "df.color2 = df.color2.astype('category')\n",
    "'''"
   ]
  },
  {
   "cell_type": "code",
   "execution_count": 190,
   "metadata": {
    "collapsed": false
   },
   "outputs": [],
   "source": [
    "np.random.seed(seed = 2)\n",
    "random_idx = np.random.rand(fc.shape[0])"
   ]
  },
  {
   "cell_type": "code",
   "execution_count": 191,
   "metadata": {
    "collapsed": false
   },
   "outputs": [],
   "source": [
    "train = fc[random_idx < 0.6]\n",
    "test = fc[random_idx >=.6]"
   ]
  },
  {
   "cell_type": "code",
   "execution_count": 198,
   "metadata": {
    "collapsed": false
   },
   "outputs": [],
   "source": [
    "response = 'outcometype'"
   ]
  },
  {
   "cell_type": "code",
   "execution_count": 199,
   "metadata": {
    "collapsed": false
   },
   "outputs": [],
   "source": [
    "params_model = {'max_depth':10,\n",
    "               'criterion': 'gini'}\n",
    "params_fitting = {'X': train[features],\n",
    "                 'y': train[response]}\n",
    "\n",
    "dt_model= DecisionTreeClassifier(**params_model).fit(**params_fitting)"
   ]
  },
  {
   "cell_type": "code",
   "execution_count": 200,
   "metadata": {
    "collapsed": false
   },
   "outputs": [
    {
     "data": {
      "text/plain": [
       "DecisionTreeClassifier(class_weight=None, criterion='gini', max_depth=10,\n",
       "            max_features=None, max_leaf_nodes=None, min_samples_leaf=1,\n",
       "            min_samples_split=2, min_weight_fraction_leaf=0.0,\n",
       "            presort=False, random_state=None, splitter='best')"
      ]
     },
     "execution_count": 200,
     "metadata": {},
     "output_type": "execute_result"
    }
   ],
   "source": [
    "dt_model"
   ]
  },
  {
   "cell_type": "code",
   "execution_count": 201,
   "metadata": {
    "collapsed": false
   },
   "outputs": [
    {
     "name": "stdout",
     "output_type": "stream",
     "text": [
      "accuracy is: 0.65\n"
     ]
    }
   ],
   "source": [
    "params_predict = {'X': test[features]}\n",
    "y_predict = dt_model.predict(**params_predict)\n",
    "y_actual = test[response].values\n",
    "\n",
    "acc = metrics.accuracy_score(y_actual, y_predict)\n",
    "print \"accuracy is: {}\".format(round(acc,2))"
   ]
  },
  {
   "cell_type": "code",
   "execution_count": 202,
   "metadata": {
    "collapsed": true
   },
   "outputs": [],
   "source": [
    "range_depth = np.arange(1,30,1)\n",
    "range_leaf_samples = np.arange(1,25,1)\n",
    "\n",
    "num_sampling = 100\n",
    "\n",
    "opt_score = 0\n",
    "opt_depth = 0\n",
    "opt_leaf_samples = 0"
   ]
  },
  {
   "cell_type": "code",
   "execution_count": 203,
   "metadata": {
    "collapsed": false
   },
   "outputs": [
    {
     "name": "stdout",
     "output_type": "stream",
     "text": [
      "optimal score 0.506\n",
      "opt depth 9\n",
      "optimal leaf samples 14\n"
     ]
    }
   ],
   "source": [
    "import random\n",
    "\n",
    "for id_sample, sample in enumerate(range(num_sampling)):\n",
    "    \n",
    "    depth = random.sample(range_depth, 1)[0]\n",
    "    leaf_samples = random.sample(range_leaf_samples, 1)[0]\n",
    "    split_samples = random.sample(range_leaf_samples, 1)[0]\n",
    "    \n",
    "    params_model = {'max_depth':depth,\n",
    "                 'min_samples_leaf':leaf_samples,\n",
    "                 'min_samples_split':split_samples,\n",
    "                 'criterion':'gini'}\n",
    "    \n",
    "    dt_model = DecisionTreeClassifier(**params_model)\n",
    "    \n",
    "    params_cross_val = {'estimator':dt_model,\n",
    "                       'X': train[features],\n",
    "                       'y': train[response],\n",
    "                       'cv':5}\n",
    "    scores = cross_validation.cross_val_score(**params_cross_val)\n",
    "    score_mean = scores.mean()\n",
    "    \n",
    "    if score_mean > opt_score:\n",
    "        opt_score = score_mean\n",
    "        opt_depth = depth\n",
    "        opt_leaf_samples = leaf_samples\n",
    "        \n",
    "print 'optimal score {}'.format(round(opt_score,3))\n",
    "print 'opt depth {}'.format(opt_depth)\n",
    "print 'optimal leaf samples {}'.format(opt_leaf_samples)"
   ]
  },
  {
   "cell_type": "code",
   "execution_count": 159,
   "metadata": {
    "collapsed": true
   },
   "outputs": [],
   "source": [
    "params_model_opt = {'max_depth': opt_depth,\n",
    "                   'min_samples_leaf': opt_leaf_samples,\n",
    "                   'criterion':'gini'}\n",
    "params_fitting = {'X': test[features],\n",
    "                 'y':test[response]}\n",
    "\n",
    "opt_dt_model = DecisionTreeClassifier(**params_model_opt).fit(**params_fitting)\n",
    "\n",
    "dic_tree_graph = {'decision_tree': opt_dt_model,\n",
    "                 'out_file': 'dogs_cats.dot',\n",
    "                 'feature_names':features}\n",
    "tree.export_graphviz(**dic_tree_graph)"
   ]
  },
  {
   "cell_type": "code",
   "execution_count": 160,
   "metadata": {
    "collapsed": false
   },
   "outputs": [
    {
     "name": "stdout",
     "output_type": "stream",
     "text": [
      "dogs_cats.dot    dogs_cats.ipynb  test.csv         train.csv\r\n"
     ]
    }
   ],
   "source": [
    "ls"
   ]
  },
  {
   "cell_type": "code",
   "execution_count": null,
   "metadata": {
    "collapsed": true
   },
   "outputs": [],
   "source": []
  }
 ],
 "metadata": {
  "kernelspec": {
   "display_name": "Python 2",
   "language": "python",
   "name": "python2"
  },
  "language_info": {
   "codemirror_mode": {
    "name": "ipython",
    "version": 2
   },
   "file_extension": ".py",
   "mimetype": "text/x-python",
   "name": "python",
   "nbconvert_exporter": "python",
   "pygments_lexer": "ipython2",
   "version": "2.7.11"
  }
 },
 "nbformat": 4,
 "nbformat_minor": 0
}
