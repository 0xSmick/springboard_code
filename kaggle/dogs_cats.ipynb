{
 "cells": [
  {
   "cell_type": "code",
   "execution_count": 1,
   "metadata": {
    "collapsed": false
   },
   "outputs": [],
   "source": [
    "import pandas as pd\n",
    "import numpy as np\n",
    "import matplotlib.pyplot as plt\n",
    "import seaborn as sns\n",
    "\n",
    "%matplotlib inline"
   ]
  },
  {
   "cell_type": "code",
   "execution_count": 2,
   "metadata": {
    "collapsed": true
   },
   "outputs": [],
   "source": [
    "df = pd.read_csv('train.csv')"
   ]
  },
  {
   "cell_type": "code",
   "execution_count": 3,
   "metadata": {
    "collapsed": false
   },
   "outputs": [
    {
     "data": {
      "text/html": [
       "<div>\n",
       "<table border=\"1\" class=\"dataframe\">\n",
       "  <thead>\n",
       "    <tr style=\"text-align: right;\">\n",
       "      <th></th>\n",
       "      <th>AnimalID</th>\n",
       "      <th>Name</th>\n",
       "      <th>DateTime</th>\n",
       "      <th>OutcomeType</th>\n",
       "      <th>OutcomeSubtype</th>\n",
       "      <th>AnimalType</th>\n",
       "      <th>SexuponOutcome</th>\n",
       "      <th>AgeuponOutcome</th>\n",
       "      <th>Breed</th>\n",
       "      <th>Color</th>\n",
       "    </tr>\n",
       "  </thead>\n",
       "  <tbody>\n",
       "    <tr>\n",
       "      <th>0</th>\n",
       "      <td>A671945</td>\n",
       "      <td>Hambone</td>\n",
       "      <td>2014-02-12 18:22:00</td>\n",
       "      <td>Return_to_owner</td>\n",
       "      <td>NaN</td>\n",
       "      <td>Dog</td>\n",
       "      <td>Neutered Male</td>\n",
       "      <td>1 year</td>\n",
       "      <td>Shetland Sheepdog Mix</td>\n",
       "      <td>Brown/White</td>\n",
       "    </tr>\n",
       "    <tr>\n",
       "      <th>1</th>\n",
       "      <td>A656520</td>\n",
       "      <td>Emily</td>\n",
       "      <td>2013-10-13 12:44:00</td>\n",
       "      <td>Euthanasia</td>\n",
       "      <td>Suffering</td>\n",
       "      <td>Cat</td>\n",
       "      <td>Spayed Female</td>\n",
       "      <td>1 year</td>\n",
       "      <td>Domestic Shorthair Mix</td>\n",
       "      <td>Cream Tabby</td>\n",
       "    </tr>\n",
       "    <tr>\n",
       "      <th>2</th>\n",
       "      <td>A686464</td>\n",
       "      <td>Pearce</td>\n",
       "      <td>2015-01-31 12:28:00</td>\n",
       "      <td>Adoption</td>\n",
       "      <td>Foster</td>\n",
       "      <td>Dog</td>\n",
       "      <td>Neutered Male</td>\n",
       "      <td>2 years</td>\n",
       "      <td>Pit Bull Mix</td>\n",
       "      <td>Blue/White</td>\n",
       "    </tr>\n",
       "    <tr>\n",
       "      <th>3</th>\n",
       "      <td>A683430</td>\n",
       "      <td>NaN</td>\n",
       "      <td>2014-07-11 19:09:00</td>\n",
       "      <td>Transfer</td>\n",
       "      <td>Partner</td>\n",
       "      <td>Cat</td>\n",
       "      <td>Intact Male</td>\n",
       "      <td>3 weeks</td>\n",
       "      <td>Domestic Shorthair Mix</td>\n",
       "      <td>Blue Cream</td>\n",
       "    </tr>\n",
       "    <tr>\n",
       "      <th>4</th>\n",
       "      <td>A667013</td>\n",
       "      <td>NaN</td>\n",
       "      <td>2013-11-15 12:52:00</td>\n",
       "      <td>Transfer</td>\n",
       "      <td>Partner</td>\n",
       "      <td>Dog</td>\n",
       "      <td>Neutered Male</td>\n",
       "      <td>2 years</td>\n",
       "      <td>Lhasa Apso/Miniature Poodle</td>\n",
       "      <td>Tan</td>\n",
       "    </tr>\n",
       "  </tbody>\n",
       "</table>\n",
       "</div>"
      ],
      "text/plain": [
       "  AnimalID     Name             DateTime      OutcomeType OutcomeSubtype  \\\n",
       "0  A671945  Hambone  2014-02-12 18:22:00  Return_to_owner            NaN   \n",
       "1  A656520    Emily  2013-10-13 12:44:00       Euthanasia      Suffering   \n",
       "2  A686464   Pearce  2015-01-31 12:28:00         Adoption         Foster   \n",
       "3  A683430      NaN  2014-07-11 19:09:00         Transfer        Partner   \n",
       "4  A667013      NaN  2013-11-15 12:52:00         Transfer        Partner   \n",
       "\n",
       "  AnimalType SexuponOutcome AgeuponOutcome                        Breed  \\\n",
       "0        Dog  Neutered Male         1 year        Shetland Sheepdog Mix   \n",
       "1        Cat  Spayed Female         1 year       Domestic Shorthair Mix   \n",
       "2        Dog  Neutered Male        2 years                 Pit Bull Mix   \n",
       "3        Cat    Intact Male        3 weeks       Domestic Shorthair Mix   \n",
       "4        Dog  Neutered Male        2 years  Lhasa Apso/Miniature Poodle   \n",
       "\n",
       "         Color  \n",
       "0  Brown/White  \n",
       "1  Cream Tabby  \n",
       "2   Blue/White  \n",
       "3   Blue Cream  \n",
       "4          Tan  "
      ]
     },
     "execution_count": 3,
     "metadata": {},
     "output_type": "execute_result"
    }
   ],
   "source": [
    "df.head()"
   ]
  },
  {
   "cell_type": "markdown",
   "metadata": {},
   "source": [
    "## First thing is we want to quantify our outcomes with the get_dummies method, this will allow us to clearly plot out the animals that were euthanized or adopted, I also like to lower the columns in order to work with some cleaner data"
   ]
  },
  {
   "cell_type": "code",
   "execution_count": 5,
   "metadata": {
    "collapsed": false
   },
   "outputs": [],
   "source": [
    "df_outcome = pd.get_dummies(df['OutcomeType'])"
   ]
  },
  {
   "cell_type": "code",
   "execution_count": 6,
   "metadata": {
    "collapsed": false
   },
   "outputs": [],
   "source": [
    "df = pd.concat([df, df_outcome], axis=1)"
   ]
  },
  {
   "cell_type": "code",
   "execution_count": 8,
   "metadata": {
    "collapsed": false
   },
   "outputs": [],
   "source": [
    "df.columns = map(lambda x: x.lower(), df.columns)"
   ]
  },
  {
   "cell_type": "code",
   "execution_count": 9,
   "metadata": {
    "collapsed": false
   },
   "outputs": [
    {
     "name": "stdout",
     "output_type": "stream",
     "text": [
      "<class 'pandas.core.frame.DataFrame'>\n",
      "RangeIndex: 26729 entries, 0 to 26728\n",
      "Data columns (total 15 columns):\n",
      "animalid           26729 non-null object\n",
      "name               19038 non-null object\n",
      "datetime           26729 non-null object\n",
      "outcometype        26729 non-null object\n",
      "outcomesubtype     13117 non-null object\n",
      "animaltype         26729 non-null object\n",
      "sexuponoutcome     26728 non-null object\n",
      "ageuponoutcome     26711 non-null object\n",
      "breed              26729 non-null object\n",
      "color              26729 non-null object\n",
      "adoption           26729 non-null float64\n",
      "died               26729 non-null float64\n",
      "euthanasia         26729 non-null float64\n",
      "return_to_owner    26729 non-null float64\n",
      "transfer           26729 non-null float64\n",
      "dtypes: float64(5), object(10)\n",
      "memory usage: 3.1+ MB\n"
     ]
    }
   ],
   "source": [
    "df.info()"
   ]
  },
  {
   "cell_type": "code",
   "execution_count": 65,
   "metadata": {
    "collapsed": false
   },
   "outputs": [
    {
     "data": {
      "text/plain": [
       "<matplotlib.axes._subplots.AxesSubplot at 0x10e914050>"
      ]
     },
     "execution_count": 65,
     "metadata": {},
     "output_type": "execute_result"
    },
    {
     "data": {
      "image/png": "[encoded data removed]",
      "text/plain": [
       "<matplotlib.figure.Figure at 0x10e79dc10>"
      ]
     },
     "metadata": {},
     "output_type": "display_data"
    }
   ],
   "source": [
    "test = df[['animaltype','outcometype','breed']].groupby(['animaltype','outcometype']).size().reset_index()\n",
    "sns.barplot(x='outcometype',y=0,hue='animaltype',data=test)"
   ]
  },
  {
   "cell_type": "code",
   "execution_count": 149,
   "metadata": {
    "collapsed": false
   },
   "outputs": [],
   "source": [
    "'''# Define the aggregation calculation\n",
    "\n",
    "aggregations = {\n",
    "    'adoption': {\n",
    "        'num_adoptions':'count'\n",
    "    },\n",
    "    'died': {\n",
    "        'num_died':'count'\n",
    "    },\n",
    "    'euthanasia':{\n",
    "        'num_euthanized':'count'\n",
    "    },\n",
    "    'return_to_owner':{\n",
    "        'num_rto':'count'\n",
    "    },\n",
    "    'transfer':{\n",
    "        'num_xfer':'count'\n",
    "    }\n",
    "}\n",
    "'''\n",
    "aggregations = {\n",
    "    'adoption':'sum',\n",
    "    'died':'sum',\n",
    "    'euthanasia':'sum',\n",
    "    'return_to_owner':'sum',\n",
    "    'transfer':'sum'\n",
    "    }\n",
    "dog_breed = df[df.animaltype == 'Dog'].groupby(['breed']).agg(aggregations).reset_index()\n",
    "cat_breed = df[df.animaltype == 'Cat'].groupby(['breed']).agg(aggregations).reset_index()"
   ]
  },
  {
   "cell_type": "code",
   "execution_count": 160,
   "metadata": {
    "collapsed": true
   },
   "outputs": [],
   "source": [
    "cat_breed['total'] = cat_breed.sum(axis=1)\n",
    "cat_breed['transfer_pc'] = cat_breed.transfer / cat_breed.total * 100\n",
    "cat_breed['adoption_pc'] = cat_breed.adoption / cat_breed.total * 100\n",
    "cat_breed['rto_pc'] = cat_breed.return_to_owner / cat_breed.total * 100\n",
    "cat_breed['died_pc'] = cat_breed.died / cat_breed.total * 100\n",
    "cat_breed['euth_pc'] = cat_breed.euthanasia / cat_breed.total * 100"
   ]
  },
  {
   "cell_type": "code",
   "execution_count": 150,
   "metadata": {
    "collapsed": false
   },
   "outputs": [],
   "source": [
    "dog_breed.sort_values(by='adoption', ascending=False).head(5)\n",
    "dog_breed['total'] = dog_breed.sum(axis=1)\n",
    "dog_breed['transfer_pc'] = dog_breed.transfer / dog_breed.total * 100\n",
    "dog_breed['adoption_pc'] = dog_breed.adoption / dog_breed.total * 100\n",
    "dog_breed['rto_pc'] = dog_breed.return_to_owner / dog_breed.total * 100\n",
    "dog_breed['died_pc'] = dog_breed.died / dog_breed.total * 100\n",
    "dog_breed['euth_pc'] = dog_breed.euthanasia / dog_breed.total * 100"
   ]
  },
  {
   "cell_type": "code",
   "execution_count": 152,
   "metadata": {
    "collapsed": false
   },
   "outputs": [
    {
     "data": {
      "text/html": [
       "<div>\n",
       "<table border=\"1\" class=\"dataframe\">\n",
       "  <thead>\n",
       "    <tr style=\"text-align: right;\">\n",
       "      <th></th>\n",
       "      <th>breed</th>\n",
       "      <th>transfer</th>\n",
       "      <th>adoption</th>\n",
       "      <th>return_to_owner</th>\n",
       "      <th>died</th>\n",
       "      <th>euthanasia</th>\n",
       "      <th>total</th>\n",
       "      <th>transfer_pc</th>\n",
       "      <th>adoption_pc</th>\n",
       "      <th>rto_pc</th>\n",
       "      <th>died_pc</th>\n",
       "      <th>euth_pc</th>\n",
       "    </tr>\n",
       "  </thead>\n",
       "  <tbody>\n",
       "    <tr>\n",
       "      <th>0</th>\n",
       "      <td>Affenpinscher Mix</td>\n",
       "      <td>0.0</td>\n",
       "      <td>4.0</td>\n",
       "      <td>2.0</td>\n",
       "      <td>0.0</td>\n",
       "      <td>0.0</td>\n",
       "      <td>6.0</td>\n",
       "      <td>0.0</td>\n",
       "      <td>66.666667</td>\n",
       "      <td>33.333333</td>\n",
       "      <td>0.0</td>\n",
       "      <td>0.0</td>\n",
       "    </tr>\n",
       "  </tbody>\n",
       "</table>\n",
       "</div>"
      ],
      "text/plain": [
       "               breed  transfer  adoption  return_to_owner  died  euthanasia  \\\n",
       "0  Affenpinscher Mix       0.0       4.0              2.0   0.0         0.0   \n",
       "\n",
       "   total  transfer_pc  adoption_pc     rto_pc  died_pc  euth_pc  \n",
       "0    6.0          0.0    66.666667  33.333333      0.0      0.0  "
      ]
     },
     "execution_count": 152,
     "metadata": {},
     "output_type": "execute_result"
    }
   ],
   "source": [
    "dog_breed.head(1)"
   ]
  },
  {
   "cell_type": "code",
   "execution_count": 161,
   "metadata": {
    "collapsed": false
   },
   "outputs": [],
   "source": [
    "dog_breed_perc = dog_breed[['breed','transfer_pc','adoption_pc','rto_pc','died_pc','euth_pc','total']]\n",
    "cat_breed_perc = cat_breed[['breed','transfer_pc','adoption_pc','rto_pc','died_pc','euth_pc','total']]"
   ]
  },
  {
   "cell_type": "code",
   "execution_count": 162,
   "metadata": {
    "collapsed": false
   },
   "outputs": [
    {
     "data": {
      "text/html": [
       "<div>\n",
       "<table border=\"1\" class=\"dataframe\">\n",
       "  <thead>\n",
       "    <tr style=\"text-align: right;\">\n",
       "      <th></th>\n",
       "      <th>breed</th>\n",
       "      <th>transfer_pc</th>\n",
       "      <th>adoption_pc</th>\n",
       "      <th>rto_pc</th>\n",
       "      <th>died_pc</th>\n",
       "      <th>euth_pc</th>\n",
       "      <th>total</th>\n",
       "    </tr>\n",
       "  </thead>\n",
       "  <tbody>\n",
       "    <tr>\n",
       "      <th>0</th>\n",
       "      <td>Affenpinscher Mix</td>\n",
       "      <td>0.0</td>\n",
       "      <td>66.666667</td>\n",
       "      <td>33.333333</td>\n",
       "      <td>0.0</td>\n",
       "      <td>0.0</td>\n",
       "      <td>6.0</td>\n",
       "    </tr>\n",
       "    <tr>\n",
       "      <th>1</th>\n",
       "      <td>Afghan Hound Mix</td>\n",
       "      <td>0.0</td>\n",
       "      <td>0.000000</td>\n",
       "      <td>100.000000</td>\n",
       "      <td>0.0</td>\n",
       "      <td>0.0</td>\n",
       "      <td>1.0</td>\n",
       "    </tr>\n",
       "    <tr>\n",
       "      <th>2</th>\n",
       "      <td>Airedale Terrier</td>\n",
       "      <td>100.0</td>\n",
       "      <td>0.000000</td>\n",
       "      <td>0.000000</td>\n",
       "      <td>0.0</td>\n",
       "      <td>0.0</td>\n",
       "      <td>1.0</td>\n",
       "    </tr>\n",
       "    <tr>\n",
       "      <th>3</th>\n",
       "      <td>Airedale Terrier Mix</td>\n",
       "      <td>40.0</td>\n",
       "      <td>20.000000</td>\n",
       "      <td>40.000000</td>\n",
       "      <td>0.0</td>\n",
       "      <td>0.0</td>\n",
       "      <td>5.0</td>\n",
       "    </tr>\n",
       "    <tr>\n",
       "      <th>4</th>\n",
       "      <td>Airedale Terrier/Labrador Retriever</td>\n",
       "      <td>100.0</td>\n",
       "      <td>0.000000</td>\n",
       "      <td>0.000000</td>\n",
       "      <td>0.0</td>\n",
       "      <td>0.0</td>\n",
       "      <td>1.0</td>\n",
       "    </tr>\n",
       "  </tbody>\n",
       "</table>\n",
       "</div>"
      ],
      "text/plain": [
       "                                 breed  transfer_pc  adoption_pc      rto_pc  \\\n",
       "0                    Affenpinscher Mix          0.0    66.666667   33.333333   \n",
       "1                     Afghan Hound Mix          0.0     0.000000  100.000000   \n",
       "2                     Airedale Terrier        100.0     0.000000    0.000000   \n",
       "3                 Airedale Terrier Mix         40.0    20.000000   40.000000   \n",
       "4  Airedale Terrier/Labrador Retriever        100.0     0.000000    0.000000   \n",
       "\n",
       "   died_pc  euth_pc  total  \n",
       "0      0.0      0.0    6.0  \n",
       "1      0.0      0.0    1.0  \n",
       "2      0.0      0.0    1.0  \n",
       "3      0.0      0.0    5.0  \n",
       "4      0.0      0.0    1.0  "
      ]
     },
     "execution_count": 162,
     "metadata": {},
     "output_type": "execute_result"
    }
   ],
   "source": [
    "dog_breed_perc.head()"
   ]
  },
  {
   "cell_type": "code",
   "execution_count": 163,
   "metadata": {
    "collapsed": false
   },
   "outputs": [
    {
     "data": {
      "text/html": [
       "<div>\n",
       "<table border=\"1\" class=\"dataframe\">\n",
       "  <thead>\n",
       "    <tr style=\"text-align: right;\">\n",
       "      <th></th>\n",
       "      <th>breed</th>\n",
       "      <th>transfer_pc</th>\n",
       "      <th>adoption_pc</th>\n",
       "      <th>rto_pc</th>\n",
       "      <th>died_pc</th>\n",
       "      <th>euth_pc</th>\n",
       "      <th>total</th>\n",
       "    </tr>\n",
       "  </thead>\n",
       "  <tbody>\n",
       "    <tr>\n",
       "      <th>0</th>\n",
       "      <td>Abyssinian Mix</td>\n",
       "      <td>0.000000</td>\n",
       "      <td>100.000000</td>\n",
       "      <td>0.000000</td>\n",
       "      <td>0.0</td>\n",
       "      <td>0.000000</td>\n",
       "      <td>2.0</td>\n",
       "    </tr>\n",
       "    <tr>\n",
       "      <th>1</th>\n",
       "      <td>American Shorthair Mix</td>\n",
       "      <td>77.777778</td>\n",
       "      <td>0.000000</td>\n",
       "      <td>11.111111</td>\n",
       "      <td>0.0</td>\n",
       "      <td>11.111111</td>\n",
       "      <td>9.0</td>\n",
       "    </tr>\n",
       "    <tr>\n",
       "      <th>2</th>\n",
       "      <td>Angora Mix</td>\n",
       "      <td>28.571429</td>\n",
       "      <td>57.142857</td>\n",
       "      <td>14.285714</td>\n",
       "      <td>0.0</td>\n",
       "      <td>0.000000</td>\n",
       "      <td>7.0</td>\n",
       "    </tr>\n",
       "    <tr>\n",
       "      <th>3</th>\n",
       "      <td>Balinese Mix</td>\n",
       "      <td>20.000000</td>\n",
       "      <td>80.000000</td>\n",
       "      <td>0.000000</td>\n",
       "      <td>0.0</td>\n",
       "      <td>0.000000</td>\n",
       "      <td>5.0</td>\n",
       "    </tr>\n",
       "    <tr>\n",
       "      <th>4</th>\n",
       "      <td>Bengal</td>\n",
       "      <td>0.000000</td>\n",
       "      <td>100.000000</td>\n",
       "      <td>0.000000</td>\n",
       "      <td>0.0</td>\n",
       "      <td>0.000000</td>\n",
       "      <td>2.0</td>\n",
       "    </tr>\n",
       "  </tbody>\n",
       "</table>\n",
       "</div>"
      ],
      "text/plain": [
       "                    breed  transfer_pc  adoption_pc     rto_pc  died_pc  \\\n",
       "0          Abyssinian Mix     0.000000   100.000000   0.000000      0.0   \n",
       "1  American Shorthair Mix    77.777778     0.000000  11.111111      0.0   \n",
       "2              Angora Mix    28.571429    57.142857  14.285714      0.0   \n",
       "3            Balinese Mix    20.000000    80.000000   0.000000      0.0   \n",
       "4                  Bengal     0.000000   100.000000   0.000000      0.0   \n",
       "\n",
       "     euth_pc  total  \n",
       "0   0.000000    2.0  \n",
       "1  11.111111    9.0  \n",
       "2   0.000000    7.0  \n",
       "3   0.000000    5.0  \n",
       "4   0.000000    2.0  "
      ]
     },
     "execution_count": 163,
     "metadata": {},
     "output_type": "execute_result"
    }
   ],
   "source": [
    "cat_breed_perc.head()"
   ]
  },
  {
   "cell_type": "code",
   "execution_count": 116,
   "metadata": {
    "collapsed": false
   },
   "outputs": [
    {
     "data": {
      "text/html": [
       "<div>\n",
       "<table border=\"1\" class=\"dataframe\">\n",
       "  <thead>\n",
       "    <tr style=\"text-align: right;\">\n",
       "      <th></th>\n",
       "      <th>breed</th>\n",
       "      <th>transfer</th>\n",
       "      <th>adoption</th>\n",
       "      <th>return_to_owner</th>\n",
       "      <th>died</th>\n",
       "      <th>euthanasia</th>\n",
       "    </tr>\n",
       "  </thead>\n",
       "  <tbody>\n",
       "    <tr>\n",
       "      <th>23</th>\n",
       "      <td>Domestic Shorthair Mix</td>\n",
       "      <td>4538.0</td>\n",
       "      <td>3273.0</td>\n",
       "      <td>352.0</td>\n",
       "      <td>112.0</td>\n",
       "      <td>535.0</td>\n",
       "    </tr>\n",
       "    <tr>\n",
       "      <th>20</th>\n",
       "      <td>Domestic Medium Hair Mix</td>\n",
       "      <td>383.0</td>\n",
       "      <td>357.0</td>\n",
       "      <td>26.0</td>\n",
       "      <td>11.0</td>\n",
       "      <td>62.0</td>\n",
       "    </tr>\n",
       "    <tr>\n",
       "      <th>15</th>\n",
       "      <td>Domestic Longhair Mix</td>\n",
       "      <td>205.0</td>\n",
       "      <td>199.0</td>\n",
       "      <td>48.0</td>\n",
       "      <td>12.0</td>\n",
       "      <td>56.0</td>\n",
       "    </tr>\n",
       "    <tr>\n",
       "      <th>51</th>\n",
       "      <td>Siamese Mix</td>\n",
       "      <td>154.0</td>\n",
       "      <td>173.0</td>\n",
       "      <td>27.0</td>\n",
       "      <td>5.0</td>\n",
       "      <td>30.0</td>\n",
       "    </tr>\n",
       "    <tr>\n",
       "      <th>22</th>\n",
       "      <td>Domestic Shorthair</td>\n",
       "      <td>64.0</td>\n",
       "      <td>54.0</td>\n",
       "      <td>12.0</td>\n",
       "      <td>3.0</td>\n",
       "      <td>10.0</td>\n",
       "    </tr>\n",
       "  </tbody>\n",
       "</table>\n",
       "</div>"
      ],
      "text/plain": [
       "                       breed  transfer  adoption  return_to_owner   died  \\\n",
       "23    Domestic Shorthair Mix    4538.0    3273.0            352.0  112.0   \n",
       "20  Domestic Medium Hair Mix     383.0     357.0             26.0   11.0   \n",
       "15     Domestic Longhair Mix     205.0     199.0             48.0   12.0   \n",
       "51               Siamese Mix     154.0     173.0             27.0    5.0   \n",
       "22        Domestic Shorthair      64.0      54.0             12.0    3.0   \n",
       "\n",
       "    euthanasia  \n",
       "23       535.0  \n",
       "20        62.0  \n",
       "15        56.0  \n",
       "51        30.0  \n",
       "22        10.0  "
      ]
     },
     "execution_count": 116,
     "metadata": {},
     "output_type": "execute_result"
    }
   ],
   "source": [
    "cat_breed.sort_values(by='adoption',ascending=False).head(5)"
   ]
  },
  {
   "cell_type": "code",
   "execution_count": 117,
   "metadata": {
    "collapsed": true
   },
   "outputs": [],
   "source": [
    "#dog_breed['mix'] = dog_breed.breed.str.contains(\"Mix\")"
   ]
  }
 ],
 "metadata": {
  "kernelspec": {
   "display_name": "Python 2",
   "language": "python",
   "name": "python2"
  },
  "language_info": {
   "codemirror_mode": {
    "name": "ipython",
    "version": 2
   },
   "file_extension": ".py",
   "mimetype": "text/x-python",
   "name": "python",
   "nbconvert_exporter": "python",
   "pygments_lexer": "ipython2",
   "version": "2.7.11"
  }
 },
 "nbformat": 4,
 "nbformat_minor": 0
}
